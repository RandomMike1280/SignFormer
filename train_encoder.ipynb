{
 "cells": [
  {
   "cell_type": "code",
   "execution_count": null,
   "id": "20f00486",
   "metadata": {},
   "outputs": [],
   "source": [
    "!git clone https://github.com/RandomMike1280/SignFormer.git"
   ]
  },
  {
   "cell_type": "code",
   "execution_count": null,
   "id": "947565a5",
   "metadata": {},
   "outputs": [],
   "source": [
    "!pip install -r requirements.txt"
   ]
  },
  {
   "cell_type": "code",
   "execution_count": null,
   "id": "c343ce7a",
   "metadata": {},
   "outputs": [],
   "source": [
    "video_dir = \"./dataset/videos\"\n",
    "distance_dir = \"./dataset/distances\"\n",
    "epochs = 2\n",
    "batch_size = 128\n",
    "frame_epochs = 1\n",
    "frame_batch_size = 128"
   ]
  },
  {
   "cell_type": "code",
   "execution_count": null,
   "id": "7030d77b",
   "metadata": {},
   "outputs": [
    {
     "name": "stderr",
     "output_type": "stream",
     "text": [
      "python: can't open file 'c:\\\\Users\\\\angel\\\\Desktop\\\\SignFormer\\\\train_encoder.py': [Errno 2] No such file or directory\n"
     ]
    }
   ],
   "source": [
    "!python r\"train_encoder.py\" --test --video_dir ./dataset/videos --distance_dir ./dataset/distances --epochs 2 --batch_size 128 --frame_epochs 1 --frame_batch_size 128"
   ]
  },
  {
   "cell_type": "code",
   "execution_count": null,
   "id": "120783e9",
   "metadata": {},
   "outputs": [],
   "source": [
    "!python train_encoder.py --video_dir ./dataset/videos --distance_dir ./dataset/distances --epochs 20 --batch_size 128 --frame_epochs 10 --frame_batch_size 128"
   ]
  }
 ],
 "metadata": {
  "kernelspec": {
   "display_name": "Python 3",
   "language": "python",
   "name": "python3"
  },
  "language_info": {
   "codemirror_mode": {
    "name": "ipython",
    "version": 3
   },
   "file_extension": ".py",
   "mimetype": "text/x-python",
   "name": "python",
   "nbconvert_exporter": "python",
   "pygments_lexer": "ipython3",
   "version": "3.10.10"
  }
 },
 "nbformat": 4,
 "nbformat_minor": 5
}
