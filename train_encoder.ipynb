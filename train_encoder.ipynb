{
 "cells": [
  {
   "cell_type": "code",
   "execution_count": null,
   "id": "20f00486",
   "metadata": {
    "vscode": {
     "languageId": "plaintext"
    }
   },
   "outputs": [],
   "source": [
    "!git clone https://github.com/RandomMike1280/SignFormer.git"
   ]
  },
  {
   "cell_type": "code",
   "execution_count": null,
   "id": "947565a5",
   "metadata": {
    "vscode": {
     "languageId": "plaintext"
    }
   },
   "outputs": [],
   "source": [
    "!pip install -r requirements.txt"
   ]
  },
  {
   "cell_type": "code",
   "execution_count": null,
   "id": "c343ce7a",
   "metadata": {
    "vscode": {
     "languageId": "plaintext"
    }
   },
   "outputs": [],
   "source": [
    "video_dir = \"./dataset/videos\"\n",
    "distance_dir = \"./dataset/distances\"\n",
    "epochs = 2\n",
    "batch_size = 128\n",
    "frame_epochs = 1\n",
    "frame_batch_size = 128"
   ]
  },
  {
   "cell_type": "code",
   "execution_count": null,
   "id": "7030d77b",
   "metadata": {
    "vscode": {
     "languageId": "plaintext"
    }
   },
   "outputs": [],
   "source": [
    "!python train_encoder.py --test --video_dir ./dataset/videos --distance_dir ./dataset/distances --epochs 2 --batch_size 128 --frame_epochs 1 --frame_batch_size 128"
   ]
  },
  {
   "cell_type": "code",
   "execution_count": null,
   "id": "120783e9",
   "metadata": {
    "vscode": {
     "languageId": "plaintext"
    }
   },
   "outputs": [],
   "source": [
    "!python train_encoder.py --video_dir ./dataset/videos --distance_dir ./dataset/distances --epochs 20 --batch_size 128 --frame_epochs 10 --frame_batch_size 128"
   ]
  }
 ],
 "metadata": {
  "language_info": {
   "name": "python"
  }
 },
 "nbformat": 4,
 "nbformat_minor": 5
}
